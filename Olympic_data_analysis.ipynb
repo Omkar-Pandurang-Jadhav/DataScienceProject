{
 "cells": [
  {
   "cell_type": "code",
   "execution_count": 5,
   "id": "705803c1",
   "metadata": {
    "scrolled": false
   },
   "outputs": [
    {
     "name": "stderr",
     "output_type": "stream",
     "text": [
      "/tmp/ipykernel_94035/1347575322.py:3: DtypeWarning: Columns (1,2,3,4,6,7,8,9,10,11,12,13,14) have mixed types. Specify dtype option on import or set low_memory=False.\n",
      "  df = pd.read_csv('Olympic_Athlete_Event_Results.csv',encoding='ISO-8859-1', on_bad_lines='skip')\n"
     ]
    },
    {
     "name": "stdout",
     "output_type": "stream",
     "text": [
      "First few rows of the dataset:\n"
     ]
    },
    {
     "data": {
      "text/html": [
       "<div>\n",
       "<style scoped>\n",
       "    .dataframe tbody tr th:only-of-type {\n",
       "        vertical-align: middle;\n",
       "    }\n",
       "\n",
       "    .dataframe tbody tr th {\n",
       "        vertical-align: top;\n",
       "    }\n",
       "\n",
       "    .dataframe thead th {\n",
       "        text-align: right;\n",
       "    }\n",
       "</style>\n",
       "<table border=\"1\" class=\"dataframe\">\n",
       "  <thead>\n",
       "    <tr style=\"text-align: right;\">\n",
       "      <th></th>\n",
       "      <th>Games</th>\n",
       "      <th>edition_id</th>\n",
       "      <th>NOC</th>\n",
       "      <th>Sport</th>\n",
       "      <th>Event</th>\n",
       "      <th>result_id</th>\n",
       "      <th>Name</th>\n",
       "      <th>athlete_id</th>\n",
       "      <th>pos</th>\n",
       "      <th>Medal</th>\n",
       "      <th>isTeamSport</th>\n",
       "      <th>Height</th>\n",
       "      <th>Weight</th>\n",
       "      <th>Born</th>\n",
       "      <th>Country</th>\n",
       "    </tr>\n",
       "  </thead>\n",
       "  <tbody>\n",
       "    <tr>\n",
       "      <th>0</th>\n",
       "      <td>1972 Summer Olympics</td>\n",
       "      <td>18</td>\n",
       "      <td>BEN</td>\n",
       "      <td>Athletics</td>\n",
       "      <td>400 metres, Men</td>\n",
       "      <td>61050.0</td>\n",
       "      <td>Ibrahima Idrissou</td>\n",
       "      <td>65351</td>\n",
       "      <td>6 h7 r1/4</td>\n",
       "      <td>NaN</td>\n",
       "      <td>FALSE</td>\n",
       "      <td>NaN</td>\n",
       "      <td>NaN</td>\n",
       "      <td>01-01-40</td>\n",
       "      <td>Benin</td>\n",
       "    </tr>\n",
       "    <tr>\n",
       "      <th>1</th>\n",
       "      <td>1972 Summer Olympics</td>\n",
       "      <td>18</td>\n",
       "      <td>BEN</td>\n",
       "      <td>Athletics</td>\n",
       "      <td>Triple Jump, Men</td>\n",
       "      <td>61226.0</td>\n",
       "      <td>Christoph Chodaton</td>\n",
       "      <td>923484</td>\n",
       "      <td>DNS</td>\n",
       "      <td>NaN</td>\n",
       "      <td>FALSE</td>\n",
       "      <td>NaN</td>\n",
       "      <td>NaN</td>\n",
       "      <td>NaN</td>\n",
       "      <td>Benin</td>\n",
       "    </tr>\n",
       "    <tr>\n",
       "      <th>2</th>\n",
       "      <td>1972 Summer Olympics</td>\n",
       "      <td>18</td>\n",
       "      <td>BEN</td>\n",
       "      <td>Boxing</td>\n",
       "      <td>Light-Flyweight, Men</td>\n",
       "      <td>24001.0</td>\n",
       "      <td>Meriga Salou Seriki</td>\n",
       "      <td>1692</td>\n",
       "      <td>17</td>\n",
       "      <td>NaN</td>\n",
       "      <td>FALSE</td>\n",
       "      <td>157</td>\n",
       "      <td>48</td>\n",
       "      <td>08-04-53</td>\n",
       "      <td>Benin</td>\n",
       "    </tr>\n",
       "    <tr>\n",
       "      <th>3</th>\n",
       "      <td>1972 Summer Olympics</td>\n",
       "      <td>18</td>\n",
       "      <td>BEN</td>\n",
       "      <td>Boxing</td>\n",
       "      <td>Bantamweight, Men</td>\n",
       "      <td>24081.0</td>\n",
       "      <td>Leopold Agbazo</td>\n",
       "      <td>1691</td>\n",
       "      <td>33</td>\n",
       "      <td>NaN</td>\n",
       "      <td>FALSE</td>\n",
       "      <td>159</td>\n",
       "      <td>54</td>\n",
       "      <td>25-01-45</td>\n",
       "      <td>Benin</td>\n",
       "    </tr>\n",
       "    <tr>\n",
       "      <th>4</th>\n",
       "      <td>1972 Summer Olympics</td>\n",
       "      <td>18</td>\n",
       "      <td>BIZ</td>\n",
       "      <td>Shooting</td>\n",
       "      <td>Free Pistol, 50 metres, Open</td>\n",
       "      <td>51723.0</td>\n",
       "      <td>Owen Phillips</td>\n",
       "      <td>41408</td>\n",
       "      <td>59</td>\n",
       "      <td>NaN</td>\n",
       "      <td>FALSE</td>\n",
       "      <td>175</td>\n",
       "      <td>76</td>\n",
       "      <td>09-07-06</td>\n",
       "      <td>Belize</td>\n",
       "    </tr>\n",
       "  </tbody>\n",
       "</table>\n",
       "</div>"
      ],
      "text/plain": [
       "                  Games edition_id  NOC      Sport  \\\n",
       "0  1972 Summer Olympics         18  BEN  Athletics   \n",
       "1  1972 Summer Olympics         18  BEN  Athletics   \n",
       "2  1972 Summer Olympics         18  BEN     Boxing   \n",
       "3  1972 Summer Olympics         18  BEN     Boxing   \n",
       "4  1972 Summer Olympics         18  BIZ   Shooting   \n",
       "\n",
       "                          Event  result_id                 Name athlete_id  \\\n",
       "0               400 metres, Men    61050.0    Ibrahima Idrissou      65351   \n",
       "1              Triple Jump, Men    61226.0   Christoph Chodaton     923484   \n",
       "2          Light-Flyweight, Men    24001.0  Meriga Salou Seriki       1692   \n",
       "3             Bantamweight, Men    24081.0       Leopold Agbazo       1691   \n",
       "4  Free Pistol, 50 metres, Open    51723.0        Owen Phillips      41408   \n",
       "\n",
       "         pos Medal isTeamSport Height Weight      Born Country  \n",
       "0  6 h7 r1/4   NaN       FALSE    NaN    NaN  01-01-40   Benin  \n",
       "1        DNS   NaN       FALSE    NaN    NaN       NaN   Benin  \n",
       "2         17   NaN       FALSE    157     48  08-04-53   Benin  \n",
       "3         33   NaN       FALSE    159     54  25-01-45   Benin  \n",
       "4         59   NaN       FALSE    175     76  09-07-06  Belize  "
      ]
     },
     "metadata": {},
     "output_type": "display_data"
    },
    {
     "name": "stdout",
     "output_type": "stream",
     "text": [
      "Dataset Information:\n",
      "<class 'pandas.core.frame.DataFrame'>\n",
      "RangeIndex: 331128 entries, 0 to 331127\n",
      "Data columns (total 15 columns):\n",
      " #   Column       Non-Null Count   Dtype  \n",
      "---  ------       --------------   -----  \n",
      " 0   Games        330742 non-null  object \n",
      " 1   edition_id   239209 non-null  object \n",
      " 2   NOC          238860 non-null  object \n",
      " 3   Sport        237890 non-null  object \n",
      " 4   Event        239186 non-null  object \n",
      " 5   result_id    239018 non-null  float64\n",
      " 6   Name         239041 non-null  object \n",
      " 7   athlete_id   211084 non-null  object \n",
      " 8   pos          204037 non-null  object \n",
      " 9   Medal        35683 non-null   object \n",
      " 10  isTeamSport  208551 non-null  object \n",
      " 11  Height       185906 non-null  object \n",
      " 12  Weight       186605 non-null  object \n",
      " 13  Born         208709 non-null  object \n",
      " 14  Country      199944 non-null  object \n",
      "dtypes: float64(1), object(14)\n",
      "memory usage: 37.9+ MB\n",
      "Missing Values Count:\n"
     ]
    },
    {
     "data": {
      "text/plain": [
       "Games             386\n",
       "edition_id      91919\n",
       "NOC             92268\n",
       "Sport           93238\n",
       "Event           91942\n",
       "result_id       92110\n",
       "Name            92087\n",
       "athlete_id     120044\n",
       "pos            127091\n",
       "Medal          295445\n",
       "isTeamSport    122577\n",
       "Height         145222\n",
       "Weight         144523\n",
       "Born           122419\n",
       "Country        131184\n",
       "dtype: int64"
      ]
     },
     "metadata": {},
     "output_type": "display_data"
    },
    {
     "name": "stdout",
     "output_type": "stream",
     "text": [
      "Statistical Summary for Numerical Colums:\n"
     ]
    },
    {
     "data": {
      "text/html": [
       "<div>\n",
       "<style scoped>\n",
       "    .dataframe tbody tr th:only-of-type {\n",
       "        vertical-align: middle;\n",
       "    }\n",
       "\n",
       "    .dataframe tbody tr th {\n",
       "        vertical-align: top;\n",
       "    }\n",
       "\n",
       "    .dataframe thead th {\n",
       "        text-align: right;\n",
       "    }\n",
       "</style>\n",
       "<table border=\"1\" class=\"dataframe\">\n",
       "  <thead>\n",
       "    <tr style=\"text-align: right;\">\n",
       "      <th></th>\n",
       "      <th>result_id</th>\n",
       "    </tr>\n",
       "  </thead>\n",
       "  <tbody>\n",
       "    <tr>\n",
       "      <th>count</th>\n",
       "      <td>2.390180e+05</td>\n",
       "    </tr>\n",
       "    <tr>\n",
       "      <th>mean</th>\n",
       "      <td>1.945133e+06</td>\n",
       "    </tr>\n",
       "    <tr>\n",
       "      <th>std</th>\n",
       "      <td>5.408037e+06</td>\n",
       "    </tr>\n",
       "    <tr>\n",
       "      <th>min</th>\n",
       "      <td>4.000000e+01</td>\n",
       "    </tr>\n",
       "    <tr>\n",
       "      <th>25%</th>\n",
       "      <td>3.405700e+04</td>\n",
       "    </tr>\n",
       "    <tr>\n",
       "      <th>50%</th>\n",
       "      <td>1.543550e+05</td>\n",
       "    </tr>\n",
       "    <tr>\n",
       "      <th>75%</th>\n",
       "      <td>3.080960e+05</td>\n",
       "    </tr>\n",
       "    <tr>\n",
       "      <th>max</th>\n",
       "      <td>9.001677e+07</td>\n",
       "    </tr>\n",
       "  </tbody>\n",
       "</table>\n",
       "</div>"
      ],
      "text/plain": [
       "          result_id\n",
       "count  2.390180e+05\n",
       "mean   1.945133e+06\n",
       "std    5.408037e+06\n",
       "min    4.000000e+01\n",
       "25%    3.405700e+04\n",
       "50%    1.543550e+05\n",
       "75%    3.080960e+05\n",
       "max    9.001677e+07"
      ]
     },
     "metadata": {},
     "output_type": "display_data"
    },
    {
     "name": "stdout",
     "output_type": "stream",
     "text": [
      "\n",
      "Unique Values in Each Column:\n",
      "Games: 413 unique values\n",
      "edition_id: 798 unique values\n",
      "NOC: 424 unique values\n",
      "Sport: 75 unique values\n",
      "Event: 532 unique values\n",
      "Name: 103831 unique values\n",
      "athlete_id: 101036 unique values\n",
      "pos: 1434 unique values\n",
      "Medal: 5 unique values\n",
      "isTeamSport: 72 unique values\n",
      "Height: 287 unique values\n",
      "Weight: 3699 unique values\n",
      "Born: 22854 unique values\n",
      "Country: 204 unique values\n",
      "\n",
      "Unique Categories in Key Columns:\n",
      "Medal: [nan 'FALSE' 'TRUE' 'Silver' 'Bronze' 'Gold']\n",
      "Sport: ['Athletics' 'Boxing' 'Shooting' 'Weightlifting' 'Cycling Road'\n",
      " 'Cycling Track' 'Wrestling' 'Swimming' 'Equestrian Jumping' 'Rowing'\n",
      " 'Sailing' 'Canoe Sprint' 'Judo' 'Archery' 'Artistic Gymnastics'\n",
      " 'Volleyball' nan 'Diving' 'Football' 'Waterskiing' 'Canoe Slalom'\n",
      " 'Equestrian Dressage' 'Equestrian Eventing' 'Fencing' 'Handball'\n",
      " 'Basketball' 'Bronze' 'Water Polo' 'Hockey' 'Modern Pentathlon' 'FALSE'\n",
      " 'TRUE' 'Badminton' 'Speed Skating' 'Alpine Skiing' 'Cross Country Skiing'\n",
      " 'Biathlon' 'Figure Skating' 'Luge' 'Nordic Combined' 'Ski Jumping'\n",
      " 'Ice Hockey' 'Bobsleigh' 'Gold' 'Silver' 'Artistic Swimming' 'Baseball'\n",
      " 'Tennis' 'Rhythmic Gymnastics' 'Taekwondo' 'Table Tennis' 'Bowling'\n",
      " 'Freestyle Skiing' 'Short Track Speed Skating' 'Curling' 'Roller Hockey'\n",
      " 'Basque pelota' 'Speed Skiing' 'Cycling Mountain Bike' 'Softball'\n",
      " 'Beach Volleyball' 'Snowboarding' 'Trampolining' 'Triathlon' 'Wushu'\n",
      " 'Cycling BMX Racing' 'Marathon Swimming' 'Skeleton' 'Golf' 'Rugby Sevens'\n",
      " 'Karate' 'Cycling BMX Freestyle' 'Surfing' 'Skateboarding'\n",
      " 'Sport Climbing' '3x3 Basketball']\n",
      "Country: ['Benin' 'Belize' 'Albania' 'Barbados' 'Afghanistan' 'Burkina Faso'\n",
      " 'Cambodia' 'Algeria' 'Boliva' nan 'Bermuda' 'Chad' 'Cameroon'\n",
      " 'Republic of Congo' 'Ivory Coast' 'Costa Rica' 'Dominican Republic'\n",
      " 'North Korea' 'El Salvador' 'Ecuador' 'Colombia' 'Swaziland' 'Taiwan'\n",
      " 'Chile' 'Gabon' 'Ethiopia' 'Germany' 'Fiji' 'Cuba' 'Ghana' 'Egypt'\n",
      " 'Argentina' 'Bulgaria' 'Belgium' 'Guyana' 'Guatemala' 'Brazil' 'Haiti'\n",
      " 'Czech Republic' 'Indonesia' 'Austria' 'China' 'Denmark' 'Saudi Arabia'\n",
      " 'Kuwait' 'Israel' 'Iran' 'Iceland' 'Jamaica' 'Lesotho' 'Kenya' 'Liberia'\n",
      " 'Ireland' 'Australia' 'Malawi' 'India' 'Madagascar' 'Greece' 'Mali'\n",
      " 'Malta' 'Malaysia' 'Liechtenstein' 'Myanmar' 'Finland' 'Curacao'\n",
      " 'Luxembourg' 'Niger' 'Nicaragua' 'Nepal' 'Monaco' 'Morocco' 'Canada'\n",
      " 'Mongolia' 'Paraguay' 'Panama' 'Nigeria' 'Pakistan' 'Hungary' 'Peru'\n",
      " 'Philippines' 'Mexico' 'Puerto Rico' 'Somalia' 'San Marino' 'Senegal'\n",
      " 'Vietnam' 'Portugal' 'New Zealand' 'Suriname' 'Sudan' 'Japan' 'Sri Lanka'\n",
      " 'Syria' 'Togo' 'Bahamas' 'France' 'Thailand' 'Trinidad' 'UK' 'Uganda'\n",
      " 'Tunisia' 'Tanzania' 'Netherlands' 'Norway' 'South Korea' 'Romania'\n",
      " 'Virgin Islands, US' 'Italy' 'Zambia' 'Poland' 'Uruguay' 'Russia'\n",
      " 'Turkey' 'Venezuela' 'Spain' 'Serbia' 'Switzerland' 'Sweden' 'USA'\n",
      " 'Antigua' 'Andorra' 'Cayman Islands' 'Honduras' 'Papua New Guinea'\n",
      " 'Angola' 'Botswana' 'Cyprus' 'Guinea' 'Iraq' 'Jordan' 'Laos' 'Libya'\n",
      " 'Mozambique' 'Seychelles' 'Sierra Leone' 'Zimbabwe' 'Bangladesh' 'Bhutan'\n",
      " 'Bahrain' 'Virgin Islands, British' 'Central African Republic' 'Djibouti'\n",
      " 'Democratic Republic of the Congo' 'Equatorial Guinea' 'Grenada'\n",
      " 'Mauritania' 'Mauritius' 'Yemen' 'Oman' 'Qatar' 'Rwanda' 'Samoa'\n",
      " 'Solomon Islands' 'Gambia' 'Tonga' 'United Arab Emirates' 'Aruba'\n",
      " 'American Samoa' 'Cook Islands' 'Guam' 'Maldives' 'Saint Vincent'\n",
      " 'Vanuatu' 'Bosnia and Herzegovina' 'Croatia' 'Estonia'\n",
      " 'Individual Olympic Athletes' 'Latvia' 'Lithuania' 'Namibia' 'Slovenia'\n",
      " 'South Africa' 'Armenia' 'Belarus' 'Georgia' 'Kyrgyzstan' 'Kazakhstan'\n",
      " 'Moldova' 'Slovakia' 'Uzbekistan' 'Ukraine' 'Brunei' 'Azerbaijan'\n",
      " 'Burundi' 'Cape Verde' 'Comoros' 'Dominica' 'Guinea-Bissau' 'Nauru'\n",
      " 'Macedonia' 'Palestine' 'Saint Kitts' 'Saint Lucia'\n",
      " 'Sao Tome and Principe' 'Tajikistan' 'Turkmenistan' 'Eritrea'\n",
      " 'Micronesia' 'Palau' 'Kiribati' 'Timor-Leste' 'Marshall Islands'\n",
      " 'Montenegro' 'Kosovo' 'South Sudan']\n"
     ]
    }
   ],
   "source": [
    "import pandas as pd\n",
    "\n",
    "df = pd.read_csv('Olympic_Athlete_Event_Results.csv',encoding='ISO-8859-1', on_bad_lines='skip')\n",
    "\n",
    "print(\"First few rows of the dataset:\")\n",
    "display(df.head())\n",
    "\n",
    "print(\"Dataset Information:\")\n",
    "df.info()\n",
    "\n",
    "print(\"Missing Values Count:\")\n",
    "missing_values = df.isnull().sum()\n",
    "display(missing_values[missing_values > 0])\n",
    "\n",
    "print(\"Statistical Summary for Numerical Colums:\")\n",
    "display(df.describe())\n",
    "\n",
    "# Displaying basic statistical summary for categorical columns (like 'Event', 'Medal', etc.)\n",
    "print(\"\\nUnique Values in Each Column:\")\n",
    "for column in df.select_dtypes(include='object').columns:\n",
    "    print(f\"{column}: {df[column].nunique()} unique values\")\n",
    "    \n",
    "# Check for unique categories in key columns (like 'Medal', 'Sport', etc.)\n",
    "print(\"\\nUnique Categories in Key Columns:\")\n",
    "print(\"Medal:\", df['Medal'].unique())\n",
    "print(\"Sport:\", df['Sport'].unique())\n",
    "print(\"Country:\", df['Country'].unique())"
   ]
  },
  {
   "cell_type": "code",
   "execution_count": null,
   "id": "1f1de54e",
   "metadata": {},
   "outputs": [],
   "source": []
  },
  {
   "cell_type": "code",
   "execution_count": 51,
   "id": "a75ece6e",
   "metadata": {},
   "outputs": [
    {
     "name": "stdout",
     "output_type": "stream",
     "text": [
      "Original DataFrame shape: (331128, 15)\n",
      "Cleaned DataFrame shape: (177648, 15)\n"
     ]
    }
   ],
   "source": [
    "# Function to identify and drop rows with non-numeric values in specified columns\n",
    "def drop_non_numeric_rows(df, columns):\n",
    "    # Convert columns to numeric, forcing errors to NaN\n",
    "    for column in columns:\n",
    "        df[column] = pd.to_numeric(df[column], errors='coerce')\n",
    "    \n",
    "    # Drop rows with NaN in specified columns\n",
    "    df_cleaned = df.dropna(subset=columns)\n",
    "    return df_cleaned\n",
    "\n",
    "# Columns to check\n",
    "columns_to_check = ['edition_id', 'athlete_id', 'Height', 'Weight']\n",
    "\n",
    "# Clean the DataFrame\n",
    "df_cleaned = drop_non_numeric_rows(df, columns_to_check)\n",
    "\n",
    "# Output the shape of the cleaned DataFrame to see how many rows were dropped\n",
    "print(f'Original DataFrame shape: {df.shape}')\n",
    "print(f'Cleaned DataFrame shape: {df_cleaned.shape}')\n"
   ]
  },
  {
   "cell_type": "code",
   "execution_count": 52,
   "id": "b4983920",
   "metadata": {},
   "outputs": [
    {
     "name": "stdout",
     "output_type": "stream",
     "text": [
      "Missing Data Percentage in each Column:\n",
      " Games           0.116571\n",
      "edition_id     27.782912\n",
      "NOC            27.864753\n",
      "Sport          28.157691\n",
      "Event          27.766302\n",
      "result_id      27.817038\n",
      "Name           27.810092\n",
      "athlete_id     37.252362\n",
      "pos            38.381230\n",
      "Medal          89.223805\n",
      "isTeamSport    37.018011\n",
      "Height         43.886654\n",
      "Weight         46.349146\n",
      "Born           36.970295\n",
      "Country        39.617308\n",
      "dtype: float64\n"
     ]
    }
   ],
   "source": [
    "# Missing Data Handling.\n",
    "missing_data_percentage = (df.isnull().sum() / len(df)) * 100\n",
    "print(\"Missing Data Percentage in each Column:\\n\", missing_data_percentage)"
   ]
  },
  {
   "cell_type": "code",
   "execution_count": 53,
   "id": "4c95f854",
   "metadata": {},
   "outputs": [
    {
     "name": "stderr",
     "output_type": "stream",
     "text": [
      "/tmp/ipykernel_94035/1081953283.py:5: SettingWithCopyWarning: \n",
      "A value is trying to be set on a copy of a slice from a DataFrame.\n",
      "Try using .loc[row_indexer,col_indexer] = value instead\n",
      "\n",
      "See the caveats in the documentation: https://pandas.pydata.org/pandas-docs/stable/user_guide/indexing.html#returning-a-view-versus-a-copy\n",
      "  df_cleaned['Medal'] = df_cleaned['Medal'].fillna('No Medal')\n"
     ]
    },
    {
     "name": "stdout",
     "output_type": "stream",
     "text": [
      "Unique values in Medal column after cleaning: ['No Medal' 'Silver' 'Bronze' 'Gold']\n",
      "Remaining entries: 323671\n"
     ]
    }
   ],
   "source": [
    "# Step 1: Remove entries where 'Medal' is 'TRUE' or 'FALSE'\n",
    "df_cleaned = df[~df['Medal'].isin(['TRUE', 'FALSE'])]\n",
    "\n",
    "# Step 2: Replace NaN values in 'Medal' with 'No Medal'\n",
    "df_cleaned['Medal'] = df_cleaned['Medal'].fillna('No Medal')\n",
    "\n",
    "# Optional: Verify the cleaning\n",
    "print(\"Unique values in Medal column after cleaning:\", df_cleaned['Medal'].unique())\n",
    "print(\"Remaining entries:\", df_cleaned.shape[0])\n",
    "\n",
    "# Save the cleaned DataFrame\n",
    "df_cleaned.to_csv('Cleaned_Olympic_Athlete_Event_Results.csv', index=False)"
   ]
  },
  {
   "cell_type": "code",
   "execution_count": 54,
   "id": "acd1e07e",
   "metadata": {},
   "outputs": [
    {
     "name": "stdout",
     "output_type": "stream",
     "text": [
      "Number of rows after trimming: 144105\n"
     ]
    }
   ],
   "source": [
    "# Trim the DataFrame to keep only rows up to index 144104\n",
    "df_trimmed = df_cleaned.iloc[:144105]  # Includes rows from 0 to 144104\n",
    "\n",
    "# Optional: Verify the trimmed DataFrame\n",
    "print(\"Number of rows after trimming:\", df_trimmed.shape[0])\n",
    "\n",
    "# Save the trimmed DataFrame\n",
    "df_trimmed.to_csv('Trimmed_Olympic_Athlete_Event_Results.csv', index=False)\n"
   ]
  },
  {
   "cell_type": "code",
   "execution_count": 55,
   "id": "a69f9781",
   "metadata": {},
   "outputs": [
    {
     "name": "stdout",
     "output_type": "stream",
     "text": [
      "Missing Data Percentage in each Column:\n",
      " Games           0.174872\n",
      "edition_id      1.888207\n",
      "NOC             1.997849\n",
      "Sport           2.503036\n",
      "Event           1.852122\n",
      "result_id       1.928455\n",
      "Name            1.921516\n",
      "athlete_id      5.438396\n",
      "pos             4.706291\n",
      "Medal           0.000000\n",
      "isTeamSport     5.434926\n",
      "Height         13.025919\n",
      "Weight         13.840602\n",
      "Born            5.802019\n",
      "Country         5.741647\n",
      "dtype: float64\n"
     ]
    }
   ],
   "source": [
    "# Missing Data Handling.\n",
    "missing_percentage = (df_trimmed.isnull().sum() / len(df_trimmed)) * 100\n",
    "print(\"Missing Data Percentage in each Column:\\n\", missing_percentage)"
   ]
  },
  {
   "cell_type": "code",
   "execution_count": 56,
   "id": "f0596f3c",
   "metadata": {},
   "outputs": [
    {
     "name": "stdout",
     "output_type": "stream",
     "text": [
      "\n",
      "Unique Categories in Key Columns:\n",
      "Medal: ['No Medal' 'Silver' 'Bronze' 'Gold']\n",
      "Sport: ['Athletics' 'Boxing' 'Shooting' 'Weightlifting' 'Cycling Road'\n",
      " 'Cycling Track' 'Wrestling' 'Swimming' 'Equestrian Jumping' 'Rowing'\n",
      " 'Sailing' 'Canoe Sprint' 'Judo' 'Archery' 'Artistic Gymnastics'\n",
      " 'Volleyball' nan 'Diving' 'Football' 'Waterskiing' 'Canoe Slalom'\n",
      " 'Equestrian Dressage' 'Equestrian Eventing' 'Fencing' 'Handball'\n",
      " 'Basketball' 'Bronze' 'Water Polo' 'Hockey' 'Modern Pentathlon' 'FALSE'\n",
      " 'TRUE' 'Badminton' 'Speed Skating' 'Alpine Skiing' 'Cross Country Skiing'\n",
      " 'Biathlon' 'Figure Skating' 'Luge' 'Nordic Combined' 'Ski Jumping'\n",
      " 'Ice Hockey' 'Bobsleigh' 'Gold' 'Silver' 'Artistic Swimming' 'Baseball'\n",
      " 'Tennis' 'Rhythmic Gymnastics' 'Taekwondo' 'Table Tennis' 'Bowling'\n",
      " 'Freestyle Skiing' 'Short Track Speed Skating' 'Curling' 'Roller Hockey'\n",
      " 'Basque pelota' 'Speed Skiing' 'Cycling Mountain Bike' 'Softball'\n",
      " 'Beach Volleyball' 'Snowboarding' 'Trampolining' 'Triathlon' 'Wushu'\n",
      " 'Cycling BMX Racing' 'Marathon Swimming']\n",
      "Dataset Information:\n",
      "<class 'pandas.core.frame.DataFrame'>\n",
      "Index: 144105 entries, 0 to 149216\n",
      "Data columns (total 15 columns):\n",
      " #   Column       Non-Null Count   Dtype  \n",
      "---  ------       --------------   -----  \n",
      " 0   Games        143853 non-null  object \n",
      " 1   edition_id   141384 non-null  float64\n",
      " 2   NOC          141226 non-null  object \n",
      " 3   Sport        140498 non-null  object \n",
      " 4   Event        141436 non-null  object \n",
      " 5   result_id    141326 non-null  float64\n",
      " 6   Name         141336 non-null  object \n",
      " 7   athlete_id   136268 non-null  float64\n",
      " 8   pos          137323 non-null  object \n",
      " 9   Medal        144105 non-null  object \n",
      " 10  isTeamSport  136273 non-null  object \n",
      " 11  Height       125334 non-null  float64\n",
      " 12  Weight       124160 non-null  float64\n",
      " 13  Born         135744 non-null  object \n",
      " 14  Country      135831 non-null  object \n",
      "dtypes: float64(5), object(10)\n",
      "memory usage: 17.6+ MB\n"
     ]
    }
   ],
   "source": [
    "# Check for unique categories in key columns (like 'Medal', 'Sport', etc.)\n",
    "print(\"\\nUnique Categories in Key Columns:\")\n",
    "print(\"Medal:\", df_trimmed['Medal'].unique())\n",
    "print(\"Sport:\", df_trimmed['Sport'].unique())\n",
    "\n",
    "print(\"Dataset Information:\")\n",
    "df_trimmed.info()"
   ]
  },
  {
   "cell_type": "code",
   "execution_count": 57,
   "id": "18f656cc",
   "metadata": {},
   "outputs": [
    {
     "name": "stdout",
     "output_type": "stream",
     "text": [
      "\n",
      "Remaining Missing Values (if any):\n",
      " Games          0\n",
      "edition_id     0\n",
      "NOC            0\n",
      "Sport          0\n",
      "Event          0\n",
      "result_id      0\n",
      "Name           0\n",
      "athlete_id     0\n",
      "pos            0\n",
      "Medal          0\n",
      "isTeamSport    0\n",
      "Height         0\n",
      "Weight         0\n",
      "Born           0\n",
      "Country        0\n",
      "dtype: int64\n"
     ]
    }
   ],
   "source": [
    "# Handled maximum missing values.\n",
    "# For the remaining missing values.\n",
    "# Strategy 1: For numeric columns, fill missing values with the median\n",
    "numeric_columns = df_trimmed.select_dtypes(include=['float64', 'int64']).columns\n",
    "df_trimmed.loc[:, numeric_columns] = df_trimmed[numeric_columns].fillna(df_trimmed[numeric_columns].median())\n",
    "\n",
    "# Strategy 2: For categorical columns, fill missing values with 'Unknown'\n",
    "categorical_columns = df_trimmed.select_dtypes(include=['object']).columns\n",
    "df_trimmed.loc[:, categorical_columns] = df_trimmed[categorical_columns].fillna(\"Unknown\")\n",
    "\n",
    "# Check again to confirm missing data has been handled\n",
    "print(\"\\nRemaining Missing Values (if any):\\n\", df_trimmed.isnull().sum())\n",
    "\n",
    "# .loc[] for Explicit Assignment: \n",
    "# By using .loc[:, columns], we explicitly specify that we’re setting values for those columns,\n",
    "# in the original df_trimmed DataFrame, avoiding the SettingWithCopyWarning.\n"
   ]
  },
  {
   "cell_type": "code",
   "execution_count": 21,
   "id": "f426418c",
   "metadata": {},
   "outputs": [],
   "source": [
    "# Data Cleaning Successful."
   ]
  },
  {
   "cell_type": "code",
   "execution_count": 58,
   "id": "cb5444ac",
   "metadata": {},
   "outputs": [
    {
     "name": "stderr",
     "output_type": "stream",
     "text": [
      "/tmp/ipykernel_94035/4042351603.py:10: SettingWithCopyWarning: \n",
      "A value is trying to be set on a copy of a slice from a DataFrame.\n",
      "Try using .loc[row_indexer,col_indexer] = value instead\n",
      "\n",
      "See the caveats in the documentation: https://pandas.pydata.org/pandas-docs/stable/user_guide/indexing.html#returning-a-view-versus-a-copy\n",
      "  df_trimmed['Height_scaled'] = scaler.fit_transform(df_trimmed[['Height']])\n",
      "/tmp/ipykernel_94035/4042351603.py:11: SettingWithCopyWarning: \n",
      "A value is trying to be set on a copy of a slice from a DataFrame.\n",
      "Try using .loc[row_indexer,col_indexer] = value instead\n",
      "\n",
      "See the caveats in the documentation: https://pandas.pydata.org/pandas-docs/stable/user_guide/indexing.html#returning-a-view-versus-a-copy\n",
      "  df_trimmed['Weight_scaled'] = scaler.fit_transform(df_trimmed[['Weight']])\n"
     ]
    },
    {
     "data": {
      "text/html": [
       "<div>\n",
       "<style scoped>\n",
       "    .dataframe tbody tr th:only-of-type {\n",
       "        vertical-align: middle;\n",
       "    }\n",
       "\n",
       "    .dataframe tbody tr th {\n",
       "        vertical-align: top;\n",
       "    }\n",
       "\n",
       "    .dataframe thead th {\n",
       "        text-align: right;\n",
       "    }\n",
       "</style>\n",
       "<table border=\"1\" class=\"dataframe\">\n",
       "  <thead>\n",
       "    <tr style=\"text-align: right;\">\n",
       "      <th></th>\n",
       "      <th>Height</th>\n",
       "      <th>Height_scaled</th>\n",
       "      <th>Weight</th>\n",
       "      <th>Weight_scaled</th>\n",
       "    </tr>\n",
       "  </thead>\n",
       "  <tbody>\n",
       "    <tr>\n",
       "      <th>0</th>\n",
       "      <td>175.0</td>\n",
       "      <td>-0.047724</td>\n",
       "      <td>70.0</td>\n",
       "      <td>-0.042421</td>\n",
       "    </tr>\n",
       "    <tr>\n",
       "      <th>1</th>\n",
       "      <td>175.0</td>\n",
       "      <td>-0.047724</td>\n",
       "      <td>70.0</td>\n",
       "      <td>-0.042421</td>\n",
       "    </tr>\n",
       "    <tr>\n",
       "      <th>2</th>\n",
       "      <td>157.0</td>\n",
       "      <td>-1.855856</td>\n",
       "      <td>48.0</td>\n",
       "      <td>-1.679438</td>\n",
       "    </tr>\n",
       "    <tr>\n",
       "      <th>3</th>\n",
       "      <td>159.0</td>\n",
       "      <td>-1.654953</td>\n",
       "      <td>54.0</td>\n",
       "      <td>-1.232979</td>\n",
       "    </tr>\n",
       "    <tr>\n",
       "      <th>4</th>\n",
       "      <td>175.0</td>\n",
       "      <td>-0.047724</td>\n",
       "      <td>76.0</td>\n",
       "      <td>0.404038</td>\n",
       "    </tr>\n",
       "  </tbody>\n",
       "</table>\n",
       "</div>"
      ],
      "text/plain": [
       "   Height  Height_scaled  Weight  Weight_scaled\n",
       "0   175.0      -0.047724    70.0      -0.042421\n",
       "1   175.0      -0.047724    70.0      -0.042421\n",
       "2   157.0      -1.855856    48.0      -1.679438\n",
       "3   159.0      -1.654953    54.0      -1.232979\n",
       "4   175.0      -0.047724    76.0       0.404038"
      ]
     },
     "execution_count": 58,
     "metadata": {},
     "output_type": "execute_result"
    }
   ],
   "source": [
    "# Normalisation and Encoding.\n",
    "\n",
    "# Import the required library\n",
    "from sklearn.preprocessing import StandardScaler\n",
    "\n",
    "# Initialize the scaler\n",
    "scaler = StandardScaler()\n",
    "\n",
    "# Fit and transform the 'Height' and 'Weight' columns, creating new columns for scaled values\n",
    "df_trimmed['Height_scaled'] = scaler.fit_transform(df_trimmed[['Height']])\n",
    "df_trimmed['Weight_scaled'] = scaler.fit_transform(df_trimmed[['Weight']])\n",
    "\n",
    "# Display to confirm new columns are created\n",
    "df_trimmed[['Height', 'Height_scaled', 'Weight', 'Weight_scaled']].head()\n"
   ]
  },
  {
   "cell_type": "code",
   "execution_count": 60,
   "id": "b49b285d",
   "metadata": {},
   "outputs": [
    {
     "name": "stdout",
     "output_type": "stream",
     "text": [
      "True\n",
      "['No Medal' 'Silver' 'Bronze' 'Gold']\n"
     ]
    }
   ],
   "source": [
    "print(\"Medal\" in df_trimmed.columns)\n",
    "\n",
    "print(df_trimmed['Medal'].unique())\n"
   ]
  },
  {
   "cell_type": "code",
   "execution_count": 61,
   "id": "539ef3d8",
   "metadata": {},
   "outputs": [],
   "source": [
    "# One-hot encode the Medal column without a prefix and without dropping any columns\n",
    "medal_dummies = pd.get_dummies(df_trimmed['Medal'], drop_first=False)\n",
    "\n",
    "# Now, concatenate these dummies with the original dataframe and drop the original Medal column\n",
    "df_trimmed = pd.concat([df_trimmed.drop(columns=['Medal'], errors='ignore'), medal_dummies], axis=1)\n"
   ]
  },
  {
   "cell_type": "code",
   "execution_count": 62,
   "id": "12527f48",
   "metadata": {},
   "outputs": [
    {
     "name": "stdout",
     "output_type": "stream",
     "text": [
      "Index(['Games', 'edition_id', 'NOC', 'Sport', 'Event', 'result_id', 'Name',\n",
      "       'athlete_id', 'pos', 'isTeamSport', 'Height', 'Weight', 'Born',\n",
      "       'Country', 'Height_scaled', 'Weight_scaled', 'Bronze', 'Gold',\n",
      "       'No Medal', 'Silver'],\n",
      "      dtype='object')\n"
     ]
    }
   ],
   "source": [
    "print(df_trimmed.columns)"
   ]
  },
  {
   "cell_type": "code",
   "execution_count": 63,
   "id": "4bab8ab0",
   "metadata": {},
   "outputs": [
    {
     "name": "stdout",
     "output_type": "stream",
     "text": [
      "<class 'pandas.core.frame.DataFrame'>\n",
      "Index: 144105 entries, 0 to 149216\n",
      "Data columns (total 20 columns):\n",
      " #   Column         Non-Null Count   Dtype  \n",
      "---  ------         --------------   -----  \n",
      " 0   Games          144105 non-null  object \n",
      " 1   edition_id     144105 non-null  float64\n",
      " 2   NOC            144105 non-null  object \n",
      " 3   Sport          144105 non-null  object \n",
      " 4   Event          144105 non-null  object \n",
      " 5   result_id      144105 non-null  float64\n",
      " 6   Name           144105 non-null  object \n",
      " 7   athlete_id     144105 non-null  float64\n",
      " 8   pos            144105 non-null  object \n",
      " 9   isTeamSport    144105 non-null  object \n",
      " 10  Height         144105 non-null  float64\n",
      " 11  Weight         144105 non-null  float64\n",
      " 12  Born           144105 non-null  object \n",
      " 13  Country        144105 non-null  object \n",
      " 14  Height_scaled  144105 non-null  float64\n",
      " 15  Weight_scaled  144105 non-null  float64\n",
      " 16  Bronze         144105 non-null  bool   \n",
      " 17  Gold           144105 non-null  bool   \n",
      " 18  No Medal       144105 non-null  bool   \n",
      " 19  Silver         144105 non-null  bool   \n",
      "dtypes: bool(4), float64(7), object(9)\n",
      "memory usage: 19.2+ MB\n"
     ]
    }
   ],
   "source": [
    "df_trimmed.info()"
   ]
  },
  {
   "cell_type": "code",
   "execution_count": null,
   "id": "778f4f45",
   "metadata": {},
   "outputs": [],
   "source": []
  },
  {
   "cell_type": "code",
   "execution_count": null,
   "id": "4edb7bc3",
   "metadata": {},
   "outputs": [],
   "source": []
  },
  {
   "cell_type": "code",
   "execution_count": null,
   "id": "48d2dbfd",
   "metadata": {},
   "outputs": [],
   "source": []
  }
 ],
 "metadata": {
  "kernelspec": {
   "display_name": "Python 3 (ipykernel)",
   "language": "python",
   "name": "python3"
  },
  "language_info": {
   "codemirror_mode": {
    "name": "ipython",
    "version": 3
   },
   "file_extension": ".py",
   "mimetype": "text/x-python",
   "name": "python",
   "nbconvert_exporter": "python",
   "pygments_lexer": "ipython3",
   "version": "3.12.3"
  }
 },
 "nbformat": 4,
 "nbformat_minor": 5
}
